{
 "cells": [
  {
   "cell_type": "code",
   "execution_count": 1,
   "id": "859a4b25-0fb5-4bc1-8e2d-3ee18ee2b1f1",
   "metadata": {},
   "outputs": [],
   "source": [
    "from nltk.tokenize import word_tokenize"
   ]
  },
  {
   "cell_type": "code",
   "execution_count": 2,
   "id": "102d16df-7331-4e79-a720-3b08e192439d",
   "metadata": {},
   "outputs": [
    {
     "name": "stderr",
     "output_type": "stream",
     "text": [
      "[nltk_data] Downloading package punkt to\n",
      "[nltk_data]     C:\\Users\\USER\\AppData\\Roaming\\nltk_data...\n",
      "[nltk_data]   Package punkt is already up-to-date!\n"
     ]
    },
    {
     "data": {
      "text/plain": [
       "True"
      ]
     },
     "execution_count": 2,
     "metadata": {},
     "output_type": "execute_result"
    }
   ],
   "source": [
    "import nltk\n",
    "nltk.download('punkt')"
   ]
  },
  {
   "cell_type": "code",
   "execution_count": 3,
   "id": "dcd38e54-b6e2-4f0d-a35c-45b278e4b5d1",
   "metadata": {},
   "outputs": [
    {
     "name": "stdout",
     "output_type": "stream",
     "text": [
      "['Although', 'it', \"'s\", 'not', 'a', 'happily-ever-after', 'ending', ',', 'it', 'is', 'very', 'realistic', '.']\n"
     ]
    }
   ],
   "source": [
    "text = \"Although it's not a happily-ever-after ending, it is very realistic.\"\n",
    "\n",
    "# 단어 토큰화\n",
    "tokenized_words = word_tokenize(text)\n",
    "\n",
    "print(tokenized_words)"
   ]
  },
  {
   "cell_type": "code",
   "execution_count": 4,
   "id": "d31a6c07-a5a1-4d8a-a9dd-57f03904b235",
   "metadata": {},
   "outputs": [],
   "source": [
    "import sys\n",
    "sys.path.append(r'F:\\project\\NLP')"
   ]
  },
  {
   "cell_type": "code",
   "execution_count": 5,
   "id": "3916e417-bd79-4384-9e98-6b098122d2a8",
   "metadata": {},
   "outputs": [],
   "source": [
    "from data.text import Text"
   ]
  },
  {
   "cell_type": "code",
   "execution_count": 6,
   "id": "0598334b-c3df-4b7d-b5c8-053ec0addbef",
   "metadata": {},
   "outputs": [],
   "source": [
    "corpus = Text()"
   ]
  },
  {
   "cell_type": "code",
   "execution_count": 7,
   "id": "902b597f-2af4-4061-8fe9-607360476ae4",
   "metadata": {},
   "outputs": [
    {
     "name": "stdout",
     "output_type": "stream",
     "text": [
      "After reading the comments for this movie, I am not sure whether I should be angry, sad or sickened. Seeing comments typical of people who a)know absolutely nothing about the military or b)who base everything they think they know on movies like this or on CNN reports about Abu-Gharib makes me wonder about the state of intellectual stimulation in the world. At the time I type this the number of people in the US military: 1.4 million on Active Duty with another almost 900,000 in the Guard and Reserves for a total of roughly 2.3 million. The number of people indicted for abuses at at Abu-Gharib: Currently less than 20 That makes the total of people indicted .00083% of the total military. Even if you indict every single military member that ever stepped in to Abu-Gharib, you would not come close to making that a whole number.  The flaws in this movie would take YEARS to cover. I understand that it's supposed to be sarcastic, but in reality, the writer and director are trying to make commentary about the state of the military without an enemy to fight. In reality, the US military has been at its busiest when there are not conflicts going on. The military is the first called for disaster relief and humanitarian aid missions. When the tsunami hit Indonesia, devestating the region, the US military was the first on the scene. When the chaos of the situation overwhelmed the local governments, it was military leadership who looked at their people, the same people this movie mocks, and said make it happen. Within hours, food aid was reaching isolated villages. Within days, airfields were built, cargo aircraft started landing and a food distribution system was up and running. Hours and days, not weeks and months. Yes there are unscrupulous people in the US military. But then, there are in every walk of life, every occupation. But to see people on this website decide that 2.3 million men and women are all criminal, with nothing on their minds but thoughts of destruction or mayhem is an absolute disservice to the things that they do every day. One person on this website even went so far as to say that military members are in it for personal gain. Wow! Entry level personnel make just under $8.00 an hour assuming a 40 hour work week. Of course, many work much more than 40 hours a week and those in harm's way typically put in 16-18 hour days for months on end. That makes the pay well under minimum wage. So much for personal gain. I beg you, please make yourself familiar with the world around you. Go to a nearby base, get a visitor pass and meet some of the men and women you are so quick to disparage. You would be surprised. The military no longer accepts people in lieu of prison time. They require a minimum of a GED and prefer a high school diploma. The middle ranks are expected to get a minimum of undergraduate degrees and the upper ranks are encouraged to get advanced degrees.\n",
      "\n"
     ]
    }
   ],
   "source": [
    "print(corpus)"
   ]
  },
  {
   "cell_type": "code",
   "execution_count": 8,
   "id": "d55215dd-dd22-4dae-af32-74b971a6db1e",
   "metadata": {},
   "outputs": [],
   "source": [
    "from lib.preprocess import *"
   ]
  },
  {
   "cell_type": "code",
   "execution_count": 9,
   "id": "3a2fc2b5-289e-4f49-9e5e-f6ed6f4ba046",
   "metadata": {},
   "outputs": [],
   "source": [
    "corpus = word_tokenize(corpus) # 단어 토큰화"
   ]
  },
  {
   "cell_type": "code",
   "execution_count": 10,
   "id": "ecd5a61f-7c9d-439b-9df9-b26944ff0799",
   "metadata": {},
   "outputs": [],
   "source": [
    "cleaned_words = clean_by_freq(corpus, 2) # 단어의 빈도수가 2이하인 단어 없애기"
   ]
  },
  {
   "cell_type": "code",
   "execution_count": 11,
   "id": "57771540-51c3-490a-bbbc-4b8a1b35c953",
   "metadata": {},
   "outputs": [],
   "source": [
    "cleaned_by_freq_len = clean_by_len(cleaned_words, 2) # 단어의 길이가 2이하인 단어 없애기"
   ]
  },
  {
   "cell_type": "markdown",
   "id": "08eff141-f637-4cd3-aaf7-09faa02ca4a5",
   "metadata": {},
   "source": [
    "- 불용어(stopword)\n",
    "    - corpus에서 큰 의미가 없거나, 분석 목적에서 벗어나는 단어들\n",
    "    - 이런 단어들은 정확한 분석을 방해하기 때문에 제거"
   ]
  },
  {
   "cell_type": "code",
   "execution_count": 12,
   "id": "b7dab00e-084a-4643-bb53-5811b0a03356",
   "metadata": {},
   "outputs": [
    {
     "name": "stderr",
     "output_type": "stream",
     "text": [
      "[nltk_data] Downloading package stopwords to\n",
      "[nltk_data]     C:\\Users\\USER\\AppData\\Roaming\\nltk_data...\n",
      "[nltk_data]   Package stopwords is already up-to-date!\n"
     ]
    },
    {
     "data": {
      "text/plain": [
       "True"
      ]
     },
     "execution_count": 12,
     "metadata": {},
     "output_type": "execute_result"
    }
   ],
   "source": [
    "from nltk.corpus import stopwords\n",
    "nltk.download('stopwords')"
   ]
  },
  {
   "cell_type": "code",
   "execution_count": 13,
   "id": "896dfa78-073a-4d5f-9b2e-a26881938e62",
   "metadata": {},
   "outputs": [
    {
     "name": "stdout",
     "output_type": "stream",
     "text": [
      "불용어 개수 : 179\n",
      "{'further', 'd', 'only', 've', 'there', 'm', 'from', \"needn't\", 'why', 'doesn', 'for', 'their', 'are', 'then', 'down', 't', 'each', 'will', 'the', 're', 'them', 'me', 'through', 'y', 'isn', 'other', \"hadn't\", 'these', 'did', 'be', 'now', 'mustn', 'so', 'such', \"you'd\", 'until', 'any', 'his', 'some', 'to', 'needn', 'it', 'that', 'mightn', 'between', 'weren', 'o', \"she's\", 'on', 'should', 'll', 'because', 'both', 'am', 'were', 'he', 'don', 'what', 'where', 'during', 'more', 'out', 'yourself', 'can', \"mustn't\", 'but', 'while', 'here', \"hasn't\", 'do', \"don't\", 'themselves', 'off', 'just', \"doesn't\", 'same', 'its', 'very', 'yourselves', \"shouldn't\", 'whom', \"didn't\", \"you're\", 'nor', 'no', \"couldn't\", 'yours', 'her', 'hasn', \"should've\", 'once', 'most', 'if', 'again', 'by', \"mightn't\", \"you'll\", \"won't\", \"it's\", \"weren't\", 'himself', 'all', 'shan', \"haven't\", 'with', 'our', 'under', 'herself', 'about', 'wouldn', \"wouldn't\", \"isn't\", 'when', 'we', 'myself', 'have', 'below', 'too', 'few', 'against', 'ours', 'is', \"wasn't\", 'my', 'an', 'wasn', 'before', 'she', 'hadn', 'who', 'than', \"that'll\", 'him', 'having', \"aren't\", 'you', 'this', 'does', 'how', 'and', 'ma', 'ain', 'was', 'haven', 'they', 'being', 'doing', 'had', 'in', 'those', 'your', \"shan't\", 'aren', 'theirs', 'won', 'couldn', 'as', 'up', \"you've\", 'ourselves', 'of', 'after', 'or', 'hers', 'which', 'shouldn', 'itself', 'i', 's', 'didn', 'at', 'has', 'above', 'own', 'not', 'over', 'been', 'a', 'into'}\n"
     ]
    }
   ],
   "source": [
    "stopwords_set = set(stopwords.words('english'))\n",
    "\n",
    "print('불용어 개수 :', len(stopwords_set))\n",
    "print(stopwords_set)"
   ]
  },
  {
   "cell_type": "code",
   "execution_count": 14,
   "id": "3af3a254-d02a-4f73-ba18-ccf9c3d39b57",
   "metadata": {},
   "outputs": [],
   "source": [
    "stop_words_set = set(stopwords.words('english'))"
   ]
  },
  {
   "cell_type": "code",
   "execution_count": 16,
   "id": "ed31c9d6-84a3-4e5f-9d47-a9aa9db12c5d",
   "metadata": {},
   "outputs": [],
   "source": [
    "cleaned_words = clean_by_stopwords(cleaned_by_freq_len, stop_words_set)"
   ]
  }
 ],
 "metadata": {
  "kernelspec": {
   "display_name": "Python 3 (ipykernel)",
   "language": "python",
   "name": "python3"
  },
  "language_info": {
   "codemirror_mode": {
    "name": "ipython",
    "version": 3
   },
   "file_extension": ".py",
   "mimetype": "text/x-python",
   "name": "python",
   "nbconvert_exporter": "python",
   "pygments_lexer": "ipython3",
   "version": "3.9.12"
  }
 },
 "nbformat": 4,
 "nbformat_minor": 5
}
