{
 "cells": [
  {
   "cell_type": "markdown",
   "id": "d55c9f07",
   "metadata": {},
   "source": [
    "# 전처리"
   ]
  },
  {
   "cell_type": "code",
   "execution_count": 29,
   "id": "e38231d4",
   "metadata": {
    "ExecuteTime": {
     "end_time": "2023-04-17T00:50:27.643707Z",
     "start_time": "2023-04-17T00:50:27.632421Z"
    }
   },
   "outputs": [],
   "source": [
    "import numpy as np"
   ]
  },
  {
   "cell_type": "code",
   "execution_count": 30,
   "id": "061aa3f1",
   "metadata": {
    "ExecuteTime": {
     "end_time": "2023-04-17T00:50:28.925994Z",
     "start_time": "2023-04-17T00:50:28.905557Z"
    }
   },
   "outputs": [],
   "source": [
    "def preprocess(text) :\n",
    "    text = text.lower()\n",
    "    text = text.replace('.', ' .')\n",
    "    words = text.split(' ')\n",
    "\n",
    "    word_to_id = {}\n",
    "    id_to_word = {}\n",
    "\n",
    "    for word in words:\n",
    "        if word not in word_to_id :\n",
    "            new_id = len(word_to_id)\n",
    "            word_to_id[word] = new_id\n",
    "            id_to_word[new_id] = word\n",
    "    \n",
    "    corpus = np.array([word_to_id[w] for w in words])\n",
    "\n",
    "    return corpus, word_to_id, id_to_word"
   ]
  },
  {
   "cell_type": "code",
   "execution_count": 31,
   "id": "23b48170",
   "metadata": {
    "ExecuteTime": {
     "end_time": "2023-04-17T00:50:30.842667Z",
     "start_time": "2023-04-17T00:50:30.833698Z"
    }
   },
   "outputs": [],
   "source": [
    "text = 'You say goodbye and I say hello.'\n",
    "corpus, word_to_id, id_to_word = preprocess(text)"
   ]
  },
  {
   "cell_type": "code",
   "execution_count": 32,
   "id": "69af4944",
   "metadata": {
    "ExecuteTime": {
     "end_time": "2023-04-17T00:50:33.643323Z",
     "start_time": "2023-04-17T00:50:33.628086Z"
    }
   },
   "outputs": [
    {
     "data": {
      "text/plain": [
       "array([0, 1, 2, 3, 4, 1, 5, 6])"
      ]
     },
     "execution_count": 32,
     "metadata": {},
     "output_type": "execute_result"
    }
   ],
   "source": [
    "corpus"
   ]
  },
  {
   "cell_type": "code",
   "execution_count": 33,
   "id": "e4c5b7b3",
   "metadata": {
    "ExecuteTime": {
     "end_time": "2023-04-17T00:50:33.813035Z",
     "start_time": "2023-04-17T00:50:33.798250Z"
    }
   },
   "outputs": [
    {
     "data": {
      "text/plain": [
       "{'you': 0, 'say': 1, 'goodbye': 2, 'and': 3, 'i': 4, 'hello': 5, '.': 6}"
      ]
     },
     "execution_count": 33,
     "metadata": {},
     "output_type": "execute_result"
    }
   ],
   "source": [
    "word_to_id"
   ]
  },
  {
   "cell_type": "code",
   "execution_count": 34,
   "id": "a06a3449",
   "metadata": {
    "ExecuteTime": {
     "end_time": "2023-04-17T00:50:34.017457Z",
     "start_time": "2023-04-17T00:50:34.012819Z"
    }
   },
   "outputs": [
    {
     "data": {
      "text/plain": [
       "{0: 'you', 1: 'say', 2: 'goodbye', 3: 'and', 4: 'i', 5: 'hello', 6: '.'}"
      ]
     },
     "execution_count": 34,
     "metadata": {},
     "output_type": "execute_result"
    }
   ],
   "source": [
    "id_to_word"
   ]
  },
  {
   "cell_type": "markdown",
   "id": "31baa57c",
   "metadata": {},
   "source": [
    "# 동시발생행렬"
   ]
  },
  {
   "cell_type": "code",
   "execution_count": 35,
   "id": "3d5c66e9",
   "metadata": {
    "ExecuteTime": {
     "end_time": "2023-04-17T00:50:53.600679Z",
     "start_time": "2023-04-17T00:50:53.582607Z"
    }
   },
   "outputs": [],
   "source": [
    "def create_co_matrix(corpus, vocab_size, window_size=1) :\n",
    "    corpus_size = len(corpus)\n",
    "    co_matrix = np.zeros((vocab_size, vocab_size), dtype = np.int32)\n",
    "\n",
    "    for idx, word_id in enumerate(corpus):\n",
    "        for i in range(1, window_size + 1):\n",
    "            left_idx = idx - i\n",
    "            right_idx = idx + i\n",
    "\n",
    "            if left_idx >= 0 :\n",
    "                left_word_id = corpus[left_idx]\n",
    "                co_matrix[word_id, left_word_id] += 1\n",
    "            \n",
    "            if right_idx < corpus_size :\n",
    "                right_word_id = corpus[right_idx]\n",
    "                co_matrix[word_id, right_word_id] += 1\n",
    "        \n",
    "    return co_matrix"
   ]
  },
  {
   "cell_type": "code",
   "execution_count": 36,
   "id": "f3bfc213",
   "metadata": {
    "ExecuteTime": {
     "end_time": "2023-04-17T00:50:53.741769Z",
     "start_time": "2023-04-17T00:50:53.726799Z"
    }
   },
   "outputs": [
    {
     "data": {
      "text/plain": [
       "array([[0, 1, 0, 0, 0, 0, 0, 0],\n",
       "       [1, 0, 1, 0, 1, 1, 0, 0],\n",
       "       [0, 1, 0, 1, 0, 0, 0, 0],\n",
       "       [0, 0, 1, 0, 1, 0, 0, 0],\n",
       "       [0, 1, 0, 1, 0, 0, 0, 0],\n",
       "       [0, 1, 0, 0, 0, 0, 1, 0],\n",
       "       [0, 0, 0, 0, 0, 1, 0, 0],\n",
       "       [0, 0, 0, 0, 0, 0, 0, 0]])"
      ]
     },
     "execution_count": 36,
     "metadata": {},
     "output_type": "execute_result"
    }
   ],
   "source": [
    "C = create_co_matrix(corpus, vocab_size=len(corpus), window_size=1)\n",
    "C"
   ]
  },
  {
   "cell_type": "markdown",
   "id": "99644301",
   "metadata": {},
   "source": [
    "# 코사인 유사도"
   ]
  },
  {
   "cell_type": "code",
   "execution_count": 20,
   "id": "96c779c8",
   "metadata": {
    "ExecuteTime": {
     "end_time": "2023-04-17T00:48:48.694317Z",
     "start_time": "2023-04-17T00:48:48.687617Z"
    }
   },
   "outputs": [],
   "source": [
    "def cos_similarity(x, y, eps=1e-8): # -1~ 1 사이의 값\n",
    "    nx = x / np.sqrt(np.sum(x**2)+eps)\n",
    "    ny = y / np.sqrt(np.sum(y**2)+eps)\n",
    "    return np.dot(nx, ny)"
   ]
  },
  {
   "cell_type": "code",
   "execution_count": 21,
   "id": "af7b3d8f",
   "metadata": {
    "ExecuteTime": {
     "end_time": "2023-04-17T00:48:52.301660Z",
     "start_time": "2023-04-17T00:48:52.296656Z"
    }
   },
   "outputs": [
    {
     "name": "stdout",
     "output_type": "stream",
     "text": [
      "0.7071067758832467\n"
     ]
    }
   ],
   "source": [
    "c0 = C[word_to_id['you']]\n",
    "c1 = C[word_to_id['i']]\n",
    "print(cos_similarity(c0,c1))"
   ]
  },
  {
   "cell_type": "code",
   "execution_count": 37,
   "id": "4d996ee9",
   "metadata": {
    "ExecuteTime": {
     "end_time": "2023-04-17T00:51:13.093229Z",
     "start_time": "2023-04-17T00:51:13.079009Z"
    }
   },
   "outputs": [],
   "source": [
    "def most_similar(query, word_to_id, id_to_word, word_matrix, top=5) :\n",
    "    if query not in word_to_id :\n",
    "        print('%s(을)를 찾을 수 없습니다.' % query)\n",
    "        return\n",
    "    print('\\n[query] ' + query)\n",
    "    query_id = word_to_id[query]\n",
    "    query_vec = word_matrix[query_id]\n",
    "\n",
    "    vocab_size = len(id_to_word)\n",
    "    similarity = np.zeros(vocab_size)\n",
    "\n",
    "    for i in range(vocab_size):\n",
    "        similarity[i] = cos_similarity(word_matrix[i], query_vec)\n",
    "\n",
    "    count = 0\n",
    "    for i in (-1 * similarity).argsort():\n",
    "        if id_to_word[i] == query :\n",
    "            continue\n",
    "        print(' %s: %s' % (id_to_word[i], similarity[i]))\n",
    "        \n",
    "        count += 1\n",
    "        if count >= top :\n",
    "            return"
   ]
  },
  {
   "cell_type": "code",
   "execution_count": 38,
   "id": "c656e3d8",
   "metadata": {
    "ExecuteTime": {
     "end_time": "2023-04-17T00:51:13.218195Z",
     "start_time": "2023-04-17T00:51:13.213196Z"
    }
   },
   "outputs": [
    {
     "name": "stdout",
     "output_type": "stream",
     "text": [
      "\n",
      "[query] you\n",
      " goodbye: 0.7071067758832467\n",
      " i: 0.7071067758832467\n",
      " hello: 0.7071067758832467\n",
      " say: 0.0\n",
      " and: 0.0\n"
     ]
    }
   ],
   "source": [
    "most_similar('you', word_to_id, id_to_word, C, top=5)"
   ]
  },
  {
   "cell_type": "markdown",
   "id": "7ae367c3",
   "metadata": {},
   "source": [
    "# PPMI"
   ]
  },
  {
   "cell_type": "code",
   "execution_count": 24,
   "id": "9660e20c",
   "metadata": {
    "ExecuteTime": {
     "end_time": "2023-04-17T00:49:08.493836Z",
     "start_time": "2023-04-17T00:49:08.475723Z"
    }
   },
   "outputs": [],
   "source": [
    "def ppmi(C, verbose=False, eps=1e-8):\n",
    "    M = np.zeros_like(C, dtype=np.float32)\n",
    "    N = np.sum(C)\n",
    "    S = np.sum(C, axis=0)\n",
    "    total = C.shape[0] * C.shape[1]\n",
    "    cnt = 0\n",
    "\n",
    "    for i in range(C.shape[0]):\n",
    "        for j in range(C.shape[1]):\n",
    "            pmi = np.log2(C[i, j] * N / (S[j]*S[i]) + eps)\n",
    "            M[i, j] = max(0, pmi)\n",
    "\n",
    "            if verbose:\n",
    "                cnt += 1\n",
    "                if cnt % (total//100) == 0 :\n",
    "                    print('%.1f%% 완료' % (100*cnt/total))\n",
    "    return M"
   ]
  },
  {
   "cell_type": "code",
   "execution_count": 25,
   "id": "e0a46a79",
   "metadata": {
    "ExecuteTime": {
     "end_time": "2023-04-17T00:49:12.133221Z",
     "start_time": "2023-04-17T00:49:12.113705Z"
    }
   },
   "outputs": [
    {
     "name": "stdout",
     "output_type": "stream",
     "text": [
      "[[0.        1.8073549 0.        0.        0.        0.        0.\n",
      "  0.       ]\n",
      " [1.8073549 0.        0.8073549 0.        0.8073549 0.8073549 0.\n",
      "  0.       ]\n",
      " [0.        0.8073549 0.        1.8073549 0.        0.        0.\n",
      "  0.       ]\n",
      " [0.        0.        1.8073549 0.        1.8073549 0.        0.\n",
      "  0.       ]\n",
      " [0.        0.8073549 0.        1.8073549 0.        0.        0.\n",
      "  0.       ]\n",
      " [0.        0.8073549 0.        0.        0.        0.        2.807355\n",
      "  0.       ]\n",
      " [0.        0.        0.        0.        0.        2.807355  0.\n",
      "  0.       ]\n",
      " [0.        0.        0.        0.        0.        0.        0.\n",
      "  0.       ]]\n"
     ]
    },
    {
     "name": "stderr",
     "output_type": "stream",
     "text": [
      "C:\\Users\\USER\\AppData\\Local\\Temp\\ipykernel_13376\\739081569.py:10: RuntimeWarning: invalid value encountered in long_scalars\n",
      "  pmi = np.log2(C[i, j] * N / (S[j]*S[i]) + eps)\n"
     ]
    }
   ],
   "source": [
    "W = ppmi(C)\n",
    "print(W)"
   ]
  },
  {
   "cell_type": "markdown",
   "id": "a9e24087",
   "metadata": {},
   "source": [
    "# 차원감소"
   ]
  },
  {
   "cell_type": "code",
   "execution_count": 26,
   "id": "0066e559",
   "metadata": {
    "ExecuteTime": {
     "end_time": "2023-04-17T00:49:17.499556Z",
     "start_time": "2023-04-17T00:49:17.476806Z"
    }
   },
   "outputs": [],
   "source": [
    "U, S, V = np.linalg.svd(W)"
   ]
  },
  {
   "cell_type": "code",
   "execution_count": 27,
   "id": "0ab00996",
   "metadata": {
    "ExecuteTime": {
     "end_time": "2023-04-17T00:49:22.172519Z",
     "start_time": "2023-04-17T00:49:21.228944Z"
    }
   },
   "outputs": [],
   "source": [
    "import matplotlib.pyplot as plt"
   ]
  },
  {
   "cell_type": "code",
   "execution_count": 28,
   "id": "807283b7",
   "metadata": {
    "ExecuteTime": {
     "end_time": "2023-04-17T00:49:24.531485Z",
     "start_time": "2023-04-17T00:49:24.366027Z"
    }
   },
   "outputs": [
    {
     "data": {
      "image/png": "[encoded data removed]",
      "text/plain": [
       "<Figure size 432x288 with 1 Axes>"
      ]
     },
     "metadata": {
      "needs_background": "light"
     },
     "output_type": "display_data"
    }
   ],
   "source": [
    "for word, word_id in word_to_id.items() :\n",
    "    plt.annotate(word, (U[word_id, 0], U[word_id, 1]))\n",
    "\n",
    "plt.scatter(U[:, 0], U[:, 1], alpha=0.5)\n",
    "plt.show()"
   ]
  }
 ],
 "metadata": {
  "hide_input": false,
  "kernelspec": {
   "display_name": "Python 3 (ipykernel)",
   "language": "python",
   "name": "python3"
  },
  "language_info": {
   "codemirror_mode": {
    "name": "ipython",
    "version": 3
   },
   "file_extension": ".py",
   "mimetype": "text/x-python",
   "name": "python",
   "nbconvert_exporter": "python",
   "pygments_lexer": "ipython3",
   "version": "3.9.12"
  },
  "toc": {
   "base_numbering": 1,
   "nav_menu": {},
   "number_sections": true,
   "sideBar": true,
   "skip_h1_title": false,
   "title_cell": "Table of Contents",
   "title_sidebar": "Contents",
   "toc_cell": false,
   "toc_position": {},
   "toc_section_display": true,
   "toc_window_display": true
  },
  "varInspector": {
   "cols": {
    "lenName": 16,
    "lenType": 16,
    "lenVar": 40
   },
   "kernels_config": {
    "python": {
     "delete_cmd_postfix": "",
     "delete_cmd_prefix": "del ",
     "library": "var_list.py",
     "varRefreshCmd": "print(var_dic_list())"
    },
    "r": {
     "delete_cmd_postfix": ") ",
     "delete_cmd_prefix": "rm(",
     "library": "var_list.r",
     "varRefreshCmd": "cat(var_dic_list()) "
    }
   },
   "types_to_exclude": [
    "module",
    "function",
    "builtin_function_or_method",
    "instance",
    "_Feature"
   ],
   "window_display": false
  }
 },
 "nbformat": 4,
 "nbformat_minor": 5
}
