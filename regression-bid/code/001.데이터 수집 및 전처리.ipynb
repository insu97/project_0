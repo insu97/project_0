{
 "cells": [
  {
   "cell_type": "markdown",
   "id": "3a2c32c0",
   "metadata": {},
   "source": [
    "# 조달정보개방포털"
   ]
  },
  {
   "cell_type": "code",
   "execution_count": 97,
   "id": "4204b465",
   "metadata": {
    "ExecuteTime": {
     "end_time": "2023-04-12T04:25:58.856151Z",
     "start_time": "2023-04-12T04:25:58.610761Z"
    }
   },
   "outputs": [
    {
     "data": {
      "text/plain": [
       "6165"
      ]
     },
     "execution_count": 97,
     "metadata": {},
     "output_type": "execute_result"
    }
   ],
   "source": [
    "import numpy as np\n",
    "import pandas as pd\n",
    "\n",
    "year = np.arange(13) + 2010\n",
    "year = year.astype('str')\n",
    "month_day = [['0101','0331'], ['0401','0630'], ['0701','0930'], ['1001','1231']]\n",
    "\n",
    "a = year[0]\n",
    "b = month_day[0][0]\n",
    "c = month_day[0][1]\n",
    "\n",
    "df = pd.DataFrame()\n",
    "df_1 = pd.DataFrame()\n",
    "\n",
    "for i in year :\n",
    "    for j, k in month_day :\n",
    "        try : \n",
    "            df_1 = pd.read_csv(\"../data/base_data/{0}.csv\".format(i+j+'-'+i+k))\n",
    "            df = pd.concat([df, df_1])\n",
    "        except : \n",
    "            pass\n",
    "\n",
    "df = df.reset_index(drop=True)\n",
    "\n",
    "len(df)"
   ]
  },
  {
   "cell_type": "code",
   "execution_count": 98,
   "id": "3748efd1",
   "metadata": {
    "ExecuteTime": {
     "end_time": "2023-04-12T04:26:06.251382Z",
     "start_time": "2023-04-12T04:25:59.107903Z"
    }
   },
   "outputs": [
    {
     "data": {
      "text/plain": [
       "452"
      ]
     },
     "execution_count": 98,
     "metadata": {},
     "output_type": "execute_result"
    }
   ],
   "source": [
    "for i in range(len(df)) :\n",
    "    if df.loc[i, '개찰순위'] != 1 : \n",
    "        df = df.drop(i)\n",
    "        \n",
    "df = df.reset_index(drop=True)\n",
    "\n",
    "len(df)"
   ]
  },
  {
   "cell_type": "code",
   "execution_count": 99,
   "id": "26310590",
   "metadata": {
    "ExecuteTime": {
     "end_time": "2023-04-12T04:26:06.516661Z",
     "start_time": "2023-04-12T04:26:06.504635Z"
    }
   },
   "outputs": [
    {
     "data": {
      "text/plain": [
       "Index(['등록유형', '조달구분', '공고시스템명', '입찰공고번호', '입찰공고차수', '공고게시일자', '공고명', '공사현장',\n",
       "       '입찰방식', '낙찰자결정적용법규', '낙찰자결정방법', '입찰계약방법', '긴급공고여부', '업종제한여부', '업종제한내용',\n",
       "       '지역의무공동도급여부', '지역제한내용', '공동도급구성방식명', '기초금액', '추정금액', '추정가격', '예정가격',\n",
       "       '입찰서개시일자', '입찰서마감일자', '개찰일자', '낙찰하한율', '공고기관명', '실수요기관명', '수요기관명',\n",
       "       '수요기관코드', '수요기관구분', '수요기관지역명', '참가수', '개찰순위', '입찰업체명', '입찰업체사업자등록번호',\n",
       "       '입찰업체기업구분명', '입찰일자', '입찰시간', '입찰률', '입찰금액', '부적격여부', '부적격사유', '낙찰여부',\n",
       "       '참조번호', '조달요청번호', '공공조달분류명'],\n",
       "      dtype='object')"
      ]
     },
     "execution_count": 99,
     "metadata": {},
     "output_type": "execute_result"
    }
   ],
   "source": [
    "df.columns"
   ]
  },
  {
   "cell_type": "code",
   "execution_count": 100,
   "id": "e7744be0",
   "metadata": {
    "ExecuteTime": {
     "end_time": "2023-04-12T04:26:06.781245Z",
     "start_time": "2023-04-12T04:26:06.766241Z"
    }
   },
   "outputs": [],
   "source": [
    "df = df[['공고게시일자', '입찰공고번호','기초금액','예정가격','낙찰하한율','입찰률','입찰금액']]"
   ]
  },
  {
   "cell_type": "code",
   "execution_count": 101,
   "id": "49abcf67",
   "metadata": {
    "ExecuteTime": {
     "end_time": "2023-04-12T04:26:06.968735Z",
     "start_time": "2023-04-12T04:26:06.955443Z"
    }
   },
   "outputs": [
    {
     "data": {
      "text/html": [
       "<div>\n",
       "<style scoped>\n",
       "    .dataframe tbody tr th:only-of-type {\n",
       "        vertical-align: middle;\n",
       "    }\n",
       "\n",
       "    .dataframe tbody tr th {\n",
       "        vertical-align: top;\n",
       "    }\n",
       "\n",
       "    .dataframe thead th {\n",
       "        text-align: right;\n",
       "    }\n",
       "</style>\n",
       "<table border=\"1\" class=\"dataframe\">\n",
       "  <thead>\n",
       "    <tr style=\"text-align: right;\">\n",
       "      <th></th>\n",
       "      <th>공고게시일자</th>\n",
       "      <th>입찰공고번호</th>\n",
       "      <th>기초금액</th>\n",
       "      <th>예정가격</th>\n",
       "      <th>낙찰하한율</th>\n",
       "      <th>입찰률</th>\n",
       "      <th>입찰금액</th>\n",
       "    </tr>\n",
       "  </thead>\n",
       "  <tbody>\n",
       "    <tr>\n",
       "      <th>0</th>\n",
       "      <td>20100119</td>\n",
       "      <td>20100110395</td>\n",
       "      <td>1.296000e+09</td>\n",
       "      <td>1292555950</td>\n",
       "      <td>86.745</td>\n",
       "      <td>86.882</td>\n",
       "      <td>1.122999e+09</td>\n",
       "    </tr>\n",
       "    <tr>\n",
       "      <th>1</th>\n",
       "      <td>20100119</td>\n",
       "      <td>20100110411</td>\n",
       "      <td>1.596000e+09</td>\n",
       "      <td>1587553200</td>\n",
       "      <td>86.745</td>\n",
       "      <td>86.747</td>\n",
       "      <td>1.377163e+09</td>\n",
       "    </tr>\n",
       "    <tr>\n",
       "      <th>2</th>\n",
       "      <td>20100222</td>\n",
       "      <td>20100230676</td>\n",
       "      <td>4.948100e+08</td>\n",
       "      <td>494546575</td>\n",
       "      <td>86.745</td>\n",
       "      <td>88.090</td>\n",
       "      <td>4.356500e+08</td>\n",
       "    </tr>\n",
       "    <tr>\n",
       "      <th>3</th>\n",
       "      <td>20100319</td>\n",
       "      <td>20100324094</td>\n",
       "      <td>4.910000e+08</td>\n",
       "      <td>488856825</td>\n",
       "      <td>86.745</td>\n",
       "      <td>86.839</td>\n",
       "      <td>4.245231e+08</td>\n",
       "    </tr>\n",
       "    <tr>\n",
       "      <th>4</th>\n",
       "      <td>20100331</td>\n",
       "      <td>20100340192</td>\n",
       "      <td>9.697963e+08</td>\n",
       "      <td>971156500</td>\n",
       "      <td>86.745</td>\n",
       "      <td>86.818</td>\n",
       "      <td>8.431425e+08</td>\n",
       "    </tr>\n",
       "  </tbody>\n",
       "</table>\n",
       "</div>"
      ],
      "text/plain": [
       "     공고게시일자       입찰공고번호          기초금액        예정가격   낙찰하한율     입찰률  \\\n",
       "0  20100119  20100110395  1.296000e+09  1292555950  86.745  86.882   \n",
       "1  20100119  20100110411  1.596000e+09  1587553200  86.745  86.747   \n",
       "2  20100222  20100230676  4.948100e+08   494546575  86.745  88.090   \n",
       "3  20100319  20100324094  4.910000e+08   488856825  86.745  86.839   \n",
       "4  20100331  20100340192  9.697963e+08   971156500  86.745  86.818   \n",
       "\n",
       "           입찰금액  \n",
       "0  1.122999e+09  \n",
       "1  1.377163e+09  \n",
       "2  4.356500e+08  \n",
       "3  4.245231e+08  \n",
       "4  8.431425e+08  "
      ]
     },
     "execution_count": 101,
     "metadata": {},
     "output_type": "execute_result"
    }
   ],
   "source": [
    "df.head()"
   ]
  },
  {
   "cell_type": "code",
   "execution_count": 102,
   "id": "dc6db030",
   "metadata": {
    "ExecuteTime": {
     "end_time": "2023-04-12T04:26:07.201310Z",
     "start_time": "2023-04-12T04:26:07.186923Z"
    }
   },
   "outputs": [
    {
     "data": {
      "text/plain": [
       "공고게시일자    0\n",
       "입찰공고번호    0\n",
       "기초금액      2\n",
       "예정가격      0\n",
       "낙찰하한율     4\n",
       "입찰률       0\n",
       "입찰금액      0\n",
       "dtype: int64"
      ]
     },
     "execution_count": 102,
     "metadata": {},
     "output_type": "execute_result"
    }
   ],
   "source": [
    "df.isnull().sum()"
   ]
  },
  {
   "cell_type": "code",
   "execution_count": 103,
   "id": "7a681820",
   "metadata": {
    "ExecuteTime": {
     "end_time": "2023-04-12T04:26:07.389486Z",
     "start_time": "2023-04-12T04:26:07.376343Z"
    },
    "scrolled": true
   },
   "outputs": [
    {
     "data": {
      "text/plain": [
       "Int64Index([65, 254], dtype='int64')"
      ]
     },
     "execution_count": 103,
     "metadata": {},
     "output_type": "execute_result"
    }
   ],
   "source": [
    "df[df['기초금액'].isnull()].index"
   ]
  },
  {
   "cell_type": "code",
   "execution_count": 104,
   "id": "158efe9e",
   "metadata": {
    "ExecuteTime": {
     "end_time": "2023-04-12T04:26:07.607870Z",
     "start_time": "2023-04-12T04:26:07.594189Z"
    }
   },
   "outputs": [
    {
     "data": {
      "text/plain": [
       "Int64Index([65, 134, 207, 254], dtype='int64')"
      ]
     },
     "execution_count": 104,
     "metadata": {},
     "output_type": "execute_result"
    }
   ],
   "source": [
    "df[df['낙찰하한율'].isnull()].index"
   ]
  },
  {
   "cell_type": "code",
   "execution_count": 105,
   "id": "4946d616",
   "metadata": {
    "ExecuteTime": {
     "end_time": "2023-04-12T04:26:07.780189Z",
     "start_time": "2023-04-12T04:26:07.764823Z"
    }
   },
   "outputs": [],
   "source": [
    "df = df.drop([65, 134, 207, 254])\n",
    "df = df.reset_index(drop=True)"
   ]
  },
  {
   "cell_type": "code",
   "execution_count": 106,
   "id": "147cbfd8",
   "metadata": {
    "ExecuteTime": {
     "end_time": "2023-04-12T04:26:07.968386Z",
     "start_time": "2023-04-12T04:26:07.955864Z"
    }
   },
   "outputs": [
    {
     "data": {
      "text/plain": [
       "공고게시일자    0\n",
       "입찰공고번호    0\n",
       "기초금액      0\n",
       "예정가격      0\n",
       "낙찰하한율     0\n",
       "입찰률       0\n",
       "입찰금액      0\n",
       "dtype: int64"
      ]
     },
     "execution_count": 106,
     "metadata": {},
     "output_type": "execute_result"
    }
   ],
   "source": [
    "df.isnull().sum()"
   ]
  },
  {
   "cell_type": "markdown",
   "id": "4cdef3fa",
   "metadata": {},
   "source": [
    "# 나라장터"
   ]
  },
  {
   "cell_type": "code",
   "execution_count": 73,
   "id": "42e0cfb4",
   "metadata": {
    "ExecuteTime": {
     "end_time": "2023-04-12T04:15:41.491828Z",
     "start_time": "2023-04-12T04:15:41.477216Z"
    }
   },
   "outputs": [],
   "source": [
    "df = df[df['공고게시일자'] > 20200413]\n",
    "\n",
    "df = df.reset_index(drop = True)"
   ]
  },
  {
   "cell_type": "code",
   "execution_count": 72,
   "id": "a70ce8d2",
   "metadata": {
    "ExecuteTime": {
     "end_time": "2023-04-12T04:15:38.462950Z",
     "start_time": "2023-04-12T04:15:38.451629Z"
    }
   },
   "outputs": [],
   "source": [
    "import time\n",
    "import pandas as pd\n",
    "from selenium import webdriver\n",
    "from selenium.webdriver.common.keys import Keys\n",
    "from selenium.webdriver.support.ui import Select\n",
    "from selenium.webdriver.support import expected_conditions as EC\n",
    "from selenium.webdriver.common.by import By\n",
    "\n",
    "import os\n",
    "import sys"
   ]
  },
  {
   "cell_type": "markdown",
   "id": "43537d19",
   "metadata": {},
   "source": [
    "## A"
   ]
  },
  {
   "cell_type": "code",
   "execution_count": null,
   "id": "dcd66883",
   "metadata": {},
   "outputs": [],
   "source": [
    "for i in range(113, len(df)) :\n",
    "    \n",
    "    driver = webdriver.Chrome('chromedriver.exe')\n",
    "    driver.implicitly_wait(5) # seconds\n",
    "    driver.get('https://www.g2b.go.kr/index.jsp')\n",
    "\n",
    "    elements = driver.find_element(By.XPATH, '//*[@id=\"bidno\"]')\n",
    "    elements.send_keys(str(df['입찰공고번호'][i]))\n",
    "\n",
    "    check_box_1 = driver.find_element(By.XPATH, '//*[@id=\"searchForm\"]/div/fieldset[2]/dl/dd/a[1]')\n",
    "    check_box_1.click()\n",
    "\n",
    "    driver.switch_to.frame('sub')\n",
    "    driver.switch_to.frame('main')\n",
    "    driver.find_element(By.XPATH, '//*[@id=\"resultForm\"]/div[3]/table/tbody/tr/td[2]/div/a').click()\n",
    "\n",
    "    # ------------------------------------------------------------------------------------------------\n",
    "\n",
    "    for j in range(10):\n",
    "        try:\n",
    "            if driver.find_elements(By.CLASS_NAME, 'btn_mdl')[j].text =='기초금액 조회' :\n",
    "                driver.find_elements(By.CLASS_NAME, 'btn_mdl')[j].click()\n",
    "\n",
    "                driver.switch_to.window(driver.window_handles[1])\n",
    "                \n",
    "                break\n",
    "        except:\n",
    "            pass\n",
    "        \n",
    "    k = driver.find_elements(By.CLASS_NAME, 'evaluate_list')[0].text\n",
    "    \n",
    "    if str(k).split()[1][0] in 'A' :\n",
    "        A_price = str(k).split()[1][1:]\n",
    "        a_p = ''\n",
    "        for l in A_price:\n",
    "            if l != ',':\n",
    "                a_p += l\n",
    "\n",
    "        A_price = float(a_p)\n",
    "        df.loc[i, 'A'] = A_price\n",
    "        print(A_price)\n",
    "        \n",
    "    driver.quit()"
   ]
  },
  {
   "cell_type": "markdown",
   "id": "5524d4b5",
   "metadata": {},
   "source": [
    "## price_range : 예가범위"
   ]
  },
  {
   "cell_type": "code",
   "execution_count": null,
   "id": "e70e4de9",
   "metadata": {},
   "outputs": [],
   "source": [
    "for i in n_list :\n",
    "    \n",
    "    driver = webdriver.Chrome('chromedriver.exe')\n",
    "    driver.implicitly_wait(5) # seconds\n",
    "    driver.get('https://www.g2b.go.kr/index.jsp')\n",
    "\n",
    "    elements = driver.find_element(By.XPATH, '//*[@id=\"bidno\"]')\n",
    "    elements.send_keys(str(df['입찰공고번호'][i]))\n",
    "\n",
    "    check_box_1 = driver.find_element(By.XPATH, '//*[@id=\"searchForm\"]/div/fieldset[2]/dl/dd/a[1]')\n",
    "    check_box_1.click()\n",
    "\n",
    "    driver.switch_to.frame('sub')\n",
    "    driver.switch_to.frame('main')\n",
    "    try :\n",
    "        driver.find_element(By.XPATH, '//*[@id=\"resultForm\"]/div[3]/table/tbody/tr[2]/td[2]/div/a').click()\n",
    "    except :\n",
    "        driver.find_element(By.XPATH, '//*[@id=\"resultForm\"]/div[3]/table/tbody/tr/td[2]/div/a').click()\n",
    "    # ------------------------------------------------------------------------------------------------\n",
    "    \n",
    "    main = driver.window_handles\n",
    "\n",
    "    for t in main :\n",
    "        if t != main[0] :\n",
    "            driver.switch_to.window(t)\n",
    "            driver.close()\n",
    "    try :\n",
    "        driver.find_element(By.XPATH, '//*[@id=\"epDialogBtns\"]/a/span').click()\n",
    "    except :\n",
    "        pass\n",
    "    \n",
    "    for j in range(10):\n",
    "        try:\n",
    "            if driver.find_elements(By.CLASS_NAME, 'btn_mdl')[j].text =='기초금액 조회' :\n",
    "                driver.find_elements(By.CLASS_NAME, 'btn_mdl')[j].click()\n",
    "\n",
    "                driver.switch_to.window(driver.window_handles[1])\n",
    "                \n",
    "                break\n",
    "        except:\n",
    "            pass\n",
    "    try : \n",
    "        df.loc[i, 'price_range'] = float(driver.find_elements(By.CLASS_NAME, 'blue')[0].text[2])\n",
    "    except :\n",
    "        pass\n",
    "    \n",
    "    print(i, df.loc[i, 'price_range'])\n",
    "        \n",
    "    driver.quit()"
   ]
  },
  {
   "cell_type": "code",
   "execution_count": null,
   "id": "608b27dd",
   "metadata": {
    "ExecuteTime": {
     "end_time": "2023-04-12T04:25:49.881810Z",
     "start_time": "2023-04-12T04:25:49.862012Z"
    }
   },
   "outputs": [],
   "source": [
    "df.to_csv(\"../data/final_data/final_001.csv\", encoding='cp949', index=False)"
   ]
  },
  {
   "cell_type": "code",
   "execution_count": 110,
   "id": "811f3b4d",
   "metadata": {
    "ExecuteTime": {
     "end_time": "2023-04-12T04:27:50.789417Z",
     "start_time": "2023-04-12T04:27:50.779070Z"
    }
   },
   "outputs": [],
   "source": [
    "df = pd.read_csv(\"../data/final_data/final_001.csv\", encoding='cp949')"
   ]
  },
  {
   "cell_type": "code",
   "execution_count": 111,
   "id": "8eb557fa",
   "metadata": {
    "ExecuteTime": {
     "end_time": "2023-04-12T04:27:50.990348Z",
     "start_time": "2023-04-12T04:27:50.977357Z"
    }
   },
   "outputs": [
    {
     "data": {
      "text/html": [
       "<div>\n",
       "<style scoped>\n",
       "    .dataframe tbody tr th:only-of-type {\n",
       "        vertical-align: middle;\n",
       "    }\n",
       "\n",
       "    .dataframe tbody tr th {\n",
       "        vertical-align: top;\n",
       "    }\n",
       "\n",
       "    .dataframe thead th {\n",
       "        text-align: right;\n",
       "    }\n",
       "</style>\n",
       "<table border=\"1\" class=\"dataframe\">\n",
       "  <thead>\n",
       "    <tr style=\"text-align: right;\">\n",
       "      <th></th>\n",
       "      <th>공고게시일자</th>\n",
       "      <th>입찰공고번호</th>\n",
       "      <th>기초금액</th>\n",
       "      <th>예정가격</th>\n",
       "      <th>낙찰하한율</th>\n",
       "      <th>입찰률</th>\n",
       "      <th>입찰금액</th>\n",
       "      <th>A</th>\n",
       "      <th>price_range</th>\n",
       "    </tr>\n",
       "  </thead>\n",
       "  <tbody>\n",
       "    <tr>\n",
       "      <th>0</th>\n",
       "      <td>20200506</td>\n",
       "      <td>20200502763</td>\n",
       "      <td>135000000</td>\n",
       "      <td>134987200</td>\n",
       "      <td>87.745</td>\n",
       "      <td>88.141</td>\n",
       "      <td>118980000</td>\n",
       "      <td>3582070</td>\n",
       "      <td>3</td>\n",
       "    </tr>\n",
       "    <tr>\n",
       "      <th>1</th>\n",
       "      <td>20200518</td>\n",
       "      <td>20200521699</td>\n",
       "      <td>2575059000</td>\n",
       "      <td>2548078875</td>\n",
       "      <td>86.745</td>\n",
       "      <td>88.067</td>\n",
       "      <td>2244023000</td>\n",
       "      <td>167405483</td>\n",
       "      <td>3</td>\n",
       "    </tr>\n",
       "    <tr>\n",
       "      <th>2</th>\n",
       "      <td>20200520</td>\n",
       "      <td>20200525029</td>\n",
       "      <td>2356003900</td>\n",
       "      <td>2359549725</td>\n",
       "      <td>86.745</td>\n",
       "      <td>87.669</td>\n",
       "      <td>2068597000</td>\n",
       "      <td>159074832</td>\n",
       "      <td>3</td>\n",
       "    </tr>\n",
       "    <tr>\n",
       "      <th>3</th>\n",
       "      <td>20200520</td>\n",
       "      <td>20200525797</td>\n",
       "      <td>1593710000</td>\n",
       "      <td>1579139550</td>\n",
       "      <td>86.745</td>\n",
       "      <td>87.773</td>\n",
       "      <td>1386059000</td>\n",
       "      <td>82636819</td>\n",
       "      <td>3</td>\n",
       "    </tr>\n",
       "    <tr>\n",
       "      <th>4</th>\n",
       "      <td>20200521</td>\n",
       "      <td>20200527890</td>\n",
       "      <td>788765200</td>\n",
       "      <td>791472675</td>\n",
       "      <td>86.745</td>\n",
       "      <td>87.642</td>\n",
       "      <td>693663800</td>\n",
       "      <td>52344469</td>\n",
       "      <td>3</td>\n",
       "    </tr>\n",
       "  </tbody>\n",
       "</table>\n",
       "</div>"
      ],
      "text/plain": [
       "     공고게시일자       입찰공고번호        기초금액        예정가격   낙찰하한율     입찰률        입찰금액  \\\n",
       "0  20200506  20200502763   135000000   134987200  87.745  88.141   118980000   \n",
       "1  20200518  20200521699  2575059000  2548078875  86.745  88.067  2244023000   \n",
       "2  20200520  20200525029  2356003900  2359549725  86.745  87.669  2068597000   \n",
       "3  20200520  20200525797  1593710000  1579139550  86.745  87.773  1386059000   \n",
       "4  20200521  20200527890   788765200   791472675  86.745  87.642   693663800   \n",
       "\n",
       "           A  price_range  \n",
       "0    3582070            3  \n",
       "1  167405483            3  \n",
       "2  159074832            3  \n",
       "3   82636819            3  \n",
       "4   52344469            3  "
      ]
     },
     "execution_count": 111,
     "metadata": {},
     "output_type": "execute_result"
    }
   ],
   "source": [
    "df.head()"
   ]
  },
  {
   "cell_type": "markdown",
   "id": "6bc52b59",
   "metadata": {},
   "source": [
    "# 추가"
   ]
  },
  {
   "cell_type": "code",
   "execution_count": 115,
   "id": "04243847",
   "metadata": {
    "ExecuteTime": {
     "end_time": "2023-04-12T04:36:29.696522Z",
     "start_time": "2023-04-12T04:36:29.678354Z"
    }
   },
   "outputs": [],
   "source": [
    "pd.options.display.float_format = '{:.5f}'.format"
   ]
  },
  {
   "cell_type": "code",
   "execution_count": 122,
   "id": "8eeedf70",
   "metadata": {
    "ExecuteTime": {
     "end_time": "2023-04-12T04:38:56.283618Z",
     "start_time": "2023-04-12T04:38:56.269736Z"
    }
   },
   "outputs": [],
   "source": [
    "df[['입찰률','낙찰하한율']] *= 0.01"
   ]
  },
  {
   "cell_type": "code",
   "execution_count": 123,
   "id": "85c6dfbd",
   "metadata": {
    "ExecuteTime": {
     "end_time": "2023-04-12T04:38:58.049428Z",
     "start_time": "2023-04-12T04:38:58.041428Z"
    }
   },
   "outputs": [],
   "source": [
    "# (입찰금액 - A) / (예정가격 -A) >= 낙찰하한율\n",
    "# 최소 낙찰하한선 입찰금액 보다 높게 입찰금액을 써야한다.\n",
    "df['낙찰하한선입찰금액'] = round((df['예정가격']-df['A']) * df['낙찰하한율'] + df['A'])\n",
    "\n",
    "# 입찰금액 = (예정가격 - A) * 낙찰하한율 + A\n",
    "# 1순위업체가 생각한 예정가격 구하기\n",
    "df['1순위예가'] = round(df['A'] + (df['입찰금액']-df['A']) / df['낙찰하한율'])\n",
    "\n",
    "# 사정률 = 예정가격 / 기초금액 * 100\n",
    "df['예가사정률'] = df['예정가격'] / df['기초금액'] * 100\n",
    "df['1순위사정률'] = df['1순위예가'] / df['기초금액'] * 100"
   ]
  },
  {
   "cell_type": "code",
   "execution_count": 136,
   "id": "51445fda",
   "metadata": {
    "ExecuteTime": {
     "end_time": "2023-04-12T04:42:35.704581Z",
     "start_time": "2023-04-12T04:42:35.682154Z"
    }
   },
   "outputs": [
    {
     "data": {
      "text/html": [
       "<div>\n",
       "<style scoped>\n",
       "    .dataframe tbody tr th:only-of-type {\n",
       "        vertical-align: middle;\n",
       "    }\n",
       "\n",
       "    .dataframe tbody tr th {\n",
       "        vertical-align: top;\n",
       "    }\n",
       "\n",
       "    .dataframe thead th {\n",
       "        text-align: right;\n",
       "    }\n",
       "</style>\n",
       "<table border=\"1\" class=\"dataframe\">\n",
       "  <thead>\n",
       "    <tr style=\"text-align: right;\">\n",
       "      <th></th>\n",
       "      <th>낙찰하한선입찰금액</th>\n",
       "      <th>1순위예가</th>\n",
       "      <th>예가사정률</th>\n",
       "      <th>1순위사정률</th>\n",
       "    </tr>\n",
       "  </thead>\n",
       "  <tbody>\n",
       "    <tr>\n",
       "      <th>0</th>\n",
       "      <td>118883501.00000</td>\n",
       "      <td>135097176.00000</td>\n",
       "      <td>99.99052</td>\n",
       "      <td>100.07198</td>\n",
       "    </tr>\n",
       "    <tr>\n",
       "      <th>1</th>\n",
       "      <td>2232520617.00000</td>\n",
       "      <td>2561338871.00000</td>\n",
       "      <td>98.95225</td>\n",
       "      <td>99.46719</td>\n",
       "    </tr>\n",
       "    <tr>\n",
       "      <th>2</th>\n",
       "      <td>2067876778.00000</td>\n",
       "      <td>2360380000.00000</td>\n",
       "      <td>100.15050</td>\n",
       "      <td>100.18574</td>\n",
       "    </tr>\n",
       "    <tr>\n",
       "      <th>3</th>\n",
       "      <td>1380778113.00000</td>\n",
       "      <td>1585227379.00000</td>\n",
       "      <td>99.08575</td>\n",
       "      <td>99.46774</td>\n",
       "    </tr>\n",
       "    <tr>\n",
       "      <th>4</th>\n",
       "      <td>693501231.00000</td>\n",
       "      <td>791660085.00000</td>\n",
       "      <td>100.34325</td>\n",
       "      <td>100.36701</td>\n",
       "    </tr>\n",
       "  </tbody>\n",
       "</table>\n",
       "</div>"
      ],
      "text/plain": [
       "         낙찰하한선입찰금액            1순위예가     예가사정률    1순위사정률\n",
       "0  118883501.00000  135097176.00000  99.99052 100.07198\n",
       "1 2232520617.00000 2561338871.00000  98.95225  99.46719\n",
       "2 2067876778.00000 2360380000.00000 100.15050 100.18574\n",
       "3 1380778113.00000 1585227379.00000  99.08575  99.46774\n",
       "4  693501231.00000  791660085.00000 100.34325 100.36701"
      ]
     },
     "execution_count": 136,
     "metadata": {},
     "output_type": "execute_result"
    }
   ],
   "source": [
    "df.iloc[:,9:].head()"
   ]
  },
  {
   "cell_type": "code",
   "execution_count": null,
   "id": "a6ed3d26",
   "metadata": {},
   "outputs": [],
   "source": [
    "df.to_csv(\"../data/final_data/final_001.csv\", encoding='cp949', index=False)"
   ]
  }
 ],
 "metadata": {
  "hide_input": false,
  "kernelspec": {
   "display_name": "Python 3 (ipykernel)",
   "language": "python",
   "name": "python3"
  },
  "language_info": {
   "codemirror_mode": {
    "name": "ipython",
    "version": 3
   },
   "file_extension": ".py",
   "mimetype": "text/x-python",
   "name": "python",
   "nbconvert_exporter": "python",
   "pygments_lexer": "ipython3",
   "version": "3.9.12"
  },
  "toc": {
   "base_numbering": 1,
   "nav_menu": {},
   "number_sections": true,
   "sideBar": true,
   "skip_h1_title": false,
   "title_cell": "Table of Contents",
   "title_sidebar": "Contents",
   "toc_cell": false,
   "toc_position": {},
   "toc_section_display": true,
   "toc_window_display": true
  },
  "varInspector": {
   "cols": {
    "lenName": 16,
    "lenType": 16,
    "lenVar": 40
   },
   "kernels_config": {
    "python": {
     "delete_cmd_postfix": "",
     "delete_cmd_prefix": "del ",
     "library": "var_list.py",
     "varRefreshCmd": "print(var_dic_list())"
    },
    "r": {
     "delete_cmd_postfix": ") ",
     "delete_cmd_prefix": "rm(",
     "library": "var_list.r",
     "varRefreshCmd": "cat(var_dic_list()) "
    }
   },
   "types_to_exclude": [
    "module",
    "function",
    "builtin_function_or_method",
    "instance",
    "_Feature"
   ],
   "window_display": false
  }
 },
 "nbformat": 4,
 "nbformat_minor": 5
}
